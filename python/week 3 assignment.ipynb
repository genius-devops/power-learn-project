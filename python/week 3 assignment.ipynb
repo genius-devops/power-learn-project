{
 "cells": [
  {
   "cell_type": "code",
   "execution_count": 1,
   "metadata": {},
   "outputs": [
    {
     "name": "stdout",
     "output_type": "stream",
     "text": [
      "No discount applied. Original price: $ 40.0\n"
     ]
    }
   ],
   "source": [
    "def calculate_discount(price, discount_percent):\n",
    "    if discount_percent >= 20:\n",
    "        discount_amount = price * (discount_percent / 100)\n",
    "        final_price = price - discount_amount\n",
    "        return final_price\n",
    "    else:\n",
    "        return price\n",
    "\n",
    "# Prompt the user for input\n",
    "original_price = float(input(\"Enter the original price of the item: \"))\n",
    "discount_percent = float(input(\"Enter the discount percentage: \"))\n",
    "\n",
    "# Calculate the final price using the calculate_discount function\n",
    "final_price = calculate_discount(original_price, discount_percent)\n",
    "\n",
    "# Print the final price after applying the discount, or the original price if no discount was applied\n",
    "if final_price != original_price:\n",
    "    print(\"Final price after applying the discount: $\", final_price)\n",
    "else:\n",
    "    print(\"No discount applied. Original price: $\", original_price)\n"
   ]
  },
  {
   "cell_type": "code",
   "execution_count": null,
   "metadata": {},
   "outputs": [],
   "source": []
  }
 ],
 "metadata": {
  "kernelspec": {
   "display_name": "Python 3",
   "language": "python",
   "name": "python3"
  },
  "language_info": {
   "codemirror_mode": {
    "name": "ipython",
    "version": 3
   },
   "file_extension": ".py",
   "mimetype": "text/x-python",
   "name": "python",
   "nbconvert_exporter": "python",
   "pygments_lexer": "ipython3",
   "version": "3.11.3"
  }
 },
 "nbformat": 4,
 "nbformat_minor": 2
}
