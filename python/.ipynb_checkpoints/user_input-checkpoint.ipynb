{
 "cells": [
  {
   "cell_type": "code",
   "execution_count": 1,
   "metadata": {},
   "outputs": [
    {
     "name": "stdin",
     "output_type": "stream",
     "text": [
      "What is your name?  Adamu Labaran\n",
      "what is your age?  27\n",
      "what is your location Nigeria\n"
     ]
    },
    {
     "name": "stdout",
     "output_type": "stream",
     "text": [
      "Hello Adamu Labaran, you are 27 years old and live in Nigeria.\n"
     ]
    }
   ],
   "source": [
    "\"\"\"Exercise: User Input in Python\n",
    "Objective: To learn how to take user input in Python\n",
    "Task: Write a program that asks the user for their name, age, and location and then prints out a personalized message.\n",
    "Instructions:\n",
    "Create a new Python file and name it \"user_input.py\"\n",
    "Use the input() function to ask the user for their name and store it in a variable called \"name\".\n",
    "Use the input() function to ask the user for their age and store it in a variable called \"age\".\n",
    "Use the input() function to ask the user for their location and store it in a variable called \"location\".\n",
    "Print out a personalized message using the user's name, age, and location. For example: \"Hello [name], you are [age] years old and live in [location].\"\n",
    "\"\"\"\n",
    "\n",
    "name = input(\"What is your name? \")\n",
    "age = input(\"what is your age? \")\n",
    "location = input(\"what is your location\")\n",
    "\n",
    "print(f\"Hello {name}, you are {age} years old and live in {location}.\")"
   ]
  },
  {
   "cell_type": "code",
   "execution_count": null,
   "metadata": {},
   "outputs": [],
   "source": []
  }
 ],
 "metadata": {
  "kernelspec": {
   "display_name": "Python 3 (ipykernel)",
   "language": "python",
   "name": "python3"
  },
  "language_info": {
   "codemirror_mode": {
    "name": "ipython",
    "version": 3
   },
   "file_extension": ".py",
   "mimetype": "text/x-python",
   "name": "python",
   "nbconvert_exporter": "python",
   "pygments_lexer": "ipython3",
   "version": "3.11.3"
  }
 },
 "nbformat": 4,
 "nbformat_minor": 4
}
