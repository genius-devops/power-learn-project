{
 "cells": [
  {
   "cell_type": "code",
   "execution_count": 1,
   "id": "1c59ef1c-b350-4ac3-a7bf-8ca7e5611d67",
   "metadata": {},
   "outputs": [
    {
     "name": "stdout",
     "output_type": "stream",
     "text": [
      "Power Learn Project\n",
      "apple.com\n",
      "5\n",
      "3.2\n",
      "Hello\n",
      "Power Learn Project\n",
      "Power Learn Project\n",
      "\n",
      "nake_case\n",
      "MACRO_CASE\n",
      "camelCase\n",
      "CapWords\n",
      "\n",
      "23\n",
      "55\n"
     ]
    }
   ],
   "source": [
    "site_name = 'Power Learn Project'\n",
    "print(site_name)\n",
    "\n",
    "\n",
    "# Note: Python is a type-inferred language, so you don't have to explicitly define the variable type. It automatically knows that Power Learn Projects is a string and declares the site_name variable as a string.\n",
    "\n",
    "site_name = 'apple.com'\n",
    "print(site_name)\n",
    "\n",
    "# assigning multiple values to multiple name (variables)\n",
    "a, b, c  = 5, 3.2, 'Hello'\n",
    "\n",
    "print(a)\n",
    "print(b)\n",
    "print(c)\n",
    "\n",
    "# assigning single value to multiple variables\n",
    "site_1 = site_2 = 'Power Learn Project'\n",
    "\n",
    "print(site_1)\n",
    "print(site_2)\n",
    "\n",
    "var_rule = \"\"\"\n",
    "snake_case\n",
    "MACRO_CASE\n",
    "camelCase\n",
    "CapWords\n",
    "\"\"\"\n",
    "print(var_rule)\n",
    "\n",
    "# python is case sensitive\n",
    "num = 23\n",
    "Num = 55\n",
    "\n",
    "print(num)\n",
    "print(Num)\n",
    "\n",
    "\n",
    "\n",
    "\n"
   ]
  },
  {
   "cell_type": "code",
   "execution_count": 4,
   "id": "5e5540bd-2fb5-4105-9467-c30278afe0db",
   "metadata": {},
   "outputs": [
    {
     "name": "stdout",
     "output_type": "stream",
     "text": [
      "5 is of type <class 'int'>\n",
      "3.5 is of type <class 'float'>\n",
      "(1+2j) is of type <class 'complex'>\n"
     ]
    }
   ],
   "source": [
    "# data types in python: \n",
    "\"\"\"\n",
    "numeric: int, float, complex\n",
    "string: str => string sequence\n",
    "boolean: bool => True or False\n",
    "sequence: list, tuple, range => holds collection of items\n",
    "mapping: dict => hold data in key value pair form\n",
    "set: set, frozenset => hold collection of unique items\n",
    "\n",
    "in python data types are classes while variables are instances of these classes\n",
    "\"\"\"\n",
    "\n",
    "\n",
    "num1 = 5\n",
    "num2 = 3.5\n",
    "num3 = 1 + 2j\n",
    "\n",
    "# checking type of the corresponding data types\n",
    "print(num1, \"is of type\",type(num1))\n",
    "print(num2, \"is of type\",type(num2))\n",
    "print(num3, \"is of type\",type(num3))"
   ]
  },
  {
   "cell_type": "code",
   "execution_count": 9,
   "id": "e55e05e3-a310-4420-90be-060cc1cb4930",
   "metadata": {},
   "outputs": [
    {
     "name": "stdout",
     "output_type": "stream",
     "text": [
      "MicroSoft\n",
      "xbox\n",
      "89.99\n"
     ]
    }
   ],
   "source": [
    "#  list [] and tuple () behaves the same however, tuples are immutable\n",
    "\n",
    "pdct = (\"MicroSoft\",\"xbox\", 89.99)\n",
    "print(pdct[0])\n",
    "print(pdct[1])\n",
    "print(pdct[2])"
   ]
  },
  {
   "cell_type": "code",
   "execution_count": 12,
   "id": "27d3757d-0aab-418f-93e9-c48731447bb0",
   "metadata": {},
   "outputs": [
    {
     "name": "stdout",
     "output_type": "stream",
     "text": [
      "python\n",
      "python for beginners\n"
     ]
    }
   ],
   "source": [
    "# working with string\n",
    "name = \"python\"\n",
    "msg = \"python for beginners\"\n",
    "\n",
    "print(name)\n",
    "print(msg)"
   ]
  },
  {
   "cell_type": "code",
   "execution_count": null,
   "id": "f87abd98-c72d-468d-9134-461bcde9e31d",
   "metadata": {},
   "outputs": [],
   "source": []
  },
  {
   "cell_type": "code",
   "execution_count": 13,
   "id": "2d2a7314-f263-426a-9102-db71b704370f",
   "metadata": {},
   "outputs": [
    {
     "name": "stdout",
     "output_type": "stream",
     "text": [
      "{112, 114, 115, 116, 118} <class 'set'>\n"
     ]
    }
   ],
   "source": [
    "# set {,}\n",
    "\n",
    "std_id = {112, 116, 115, 118, 114}\n",
    "print(std_id, type(std_id))"
   ]
  },
  {
   "cell_type": "code",
   "execution_count": 17,
   "id": "a1757122-e580-48ee-9faf-8aa6703de89a",
   "metadata": {},
   "outputs": [
    {
     "name": "stdout",
     "output_type": "stream",
     "text": [
      "{'Nepal': 'Kathmandu', 'Italy': 'Rome', 'England': 'London'}\n",
      "Kathmandu\n",
      "{'Nepal': 'Kathmandu', 'Italy': 'Rome', 'England': 'London'}\n",
      "{'Nepal': 'Kathmandu', 'Italy': 'Rome', 'England': 'London'}\n"
     ]
    }
   ],
   "source": [
    "# dictionary\n",
    "capital_city = {\"Nepal\": \"Kathmandu\", \"Italy\":\"Rome\", \"England\":\"London\"}\n",
    "print(capital_city)\n",
    "print(capital_city[\"Nepal\"])\n",
    "print(capital_city)\n",
    "print(capital_city)"
   ]
  },
  {
   "cell_type": "code",
   "execution_count": 18,
   "id": "f053a857-1a87-4cd9-9914-bb0febdb98ad",
   "metadata": {},
   "outputs": [
    {
     "name": "stdout",
     "output_type": "stream",
     "text": [
      "55.0 <class 'float'>\n"
     ]
    }
   ],
   "source": [
    "# the two type of type conversion in python\n",
    "type_conv = \"\"\"There are two types of type conversion in Python.\n",
    "Implicit Conversion - automatic type conversion\n",
    "Explicit Conversion - manual type conversion\"\"\"\n",
    "\n",
    "int_num = 33  # integer num\n",
    "flt_num = 22.0 # float num\n",
    "\n",
    "new_num = int_num + flt_num\n",
    "print(new_num, type(new_num)) # this automatically(implicit) convert int to float as a result of + operator\n",
    "\n",
    "\n"
   ]
  },
  {
   "cell_type": "code",
   "execution_count": 25,
   "id": "39f29a49-48da-45a8-938e-c33ccf656884",
   "metadata": {},
   "outputs": [
    {
     "name": "stdout",
     "output_type": "stream",
     "text": [
      "50\n"
     ]
    }
   ],
   "source": [
    "# explicit conversion\n",
    "name = \"Eric Cartman\"\n",
    "\n",
    "num_str = \"25\"\n",
    "num_int = 25\n",
    "nums = num_int + int(num_str) #type conversion from int to\n",
    "print(nums)"
   ]
  },
  {
   "cell_type": "code",
   "execution_count": 27,
   "id": "19ea7da4-fd93-4589-8ce2-4f1ea65abbcf",
   "metadata": {},
   "outputs": [],
   "source": [
    "Key_Points_to_Remember =\"\"\"Type Conversion is the conversion of an object from one data type to another data type.\n",
    "\n",
    "Implicit Type Conversion is automatically performed by the Python interpreter.\n",
    "\n",
    "Python avoids the loss of data in Implicit Type Conversion.\n",
    "\n",
    "Explicit Type Conversion is also called Type Casting, the data types of objects are converted using predefined functions by the user.\n",
    "\n",
    "In Type Casting, loss of data may occur as we enforce the object to a specific data type.\"\"\"\n"
   ]
  },
  {
   "cell_type": "code",
   "execution_count": 29,
   "id": "132c3950-ce4b-4db4-9886-074d21e3b04a",
   "metadata": {},
   "outputs": [
    {
     "name": "stdout",
     "output_type": "stream",
     "text": [
      "True\n"
     ]
    }
   ],
   "source": [
    "\n",
    "Types_of_Python_Operators=\"\"\"Here's a list of different types of Python operators that we will learn in this tutorial.\n",
    "Arithmetic operators => addition, subtraction, multiplication etc\n",
    "Assignment Operators => a= 7, a += 2 or a = a + 2, b -= 4 or b = b - 4, c *= 6 or c = c * 8, d /= 8, e //= 1, f **= 3, a %=5 or a = a % 5\n",
    "Comparison Operators => a == z, a != z, a > b, c < d, e >= f, g <= h \n",
    "Logical Operators => logical and, logical or, logical not\n",
    "Bitwise Operators => Bitwise operators act on operands as if they were strings of binary digits. They operate bit by bit, hence the name.\n",
    "Special Operators => identity: is, is not, membership\"\"\"\n",
    "\n",
    "# In Python, is and is not are used to check if two values are located on the same part of the memory. Two variables that are equal does not imply that they are identical.\n",
    "# Note: Comparison operators are used in decision-making and loops while logical operators are used to check whether an expression is true or False also in decesion making.\n",
    "a = 4\n",
    "b = 2\n",
    "print(a > b)\n",
    "\n"
   ]
  },
  {
   "cell_type": "code",
   "execution_count": 31,
   "id": "99b4a3a2-65d0-44dd-a110-1d901f25ef34",
   "metadata": {},
   "outputs": [
    {
     "name": "stdout",
     "output_type": "stream",
     "text": [
      "True\n",
      "False\n",
      "False\n",
      "True\n",
      "True\n",
      "False\n",
      "False\n",
      "True\n"
     ]
    }
   ],
   "source": [
    "print(True and True) #True\n",
    "print(True and False) # False\n",
    "print(False and False)  # False\n",
    "print(True or False) # True\n",
    "print(True or True) # True\n",
    "print(False or False) # False\n",
    "print(not True) #False\n",
    "print(not False) #Ture\n"
   ]
  },
  {
   "cell_type": "code",
   "execution_count": 36,
   "id": "53981537-77fe-43f0-9df2-09fa028cef11",
   "metadata": {},
   "outputs": [
    {
     "name": "stdout",
     "output_type": "stream",
     "text": [
      "False\n",
      "True\n",
      "False\n",
      "True\n",
      "True\n",
      "False\n"
     ]
    }
   ],
   "source": [
    "# is: identical refer to the same object, \n",
    "# is not: not identical refer to different object.\n",
    "x1 = 5\n",
    "y1 = 5\n",
    "\n",
    "x2 = \"Hello\"\n",
    "y2 = \"Hello\"\n",
    "\n",
    "x3 = [1, 2, 3, 4]\n",
    "y3 = [1, 2, 3, 4]\n",
    "\n",
    "print(x1 is not y1) #  False\n",
    "print(x1 is y1) # True\n",
    "print(x2 is not y2) # False\n",
    "print(x2 is y2) # True\n",
    "print(x3 is not y3) # True\n",
    "print(x3 is y3) # False\n",
    "\n",
    "# But x3 and y3 are lists. They are equal but not identical. It is because the interpreter locates them separately in memory although they are equal."
   ]
  },
  {
   "cell_type": "code",
   "execution_count": null,
   "id": "2a6385cb-aac7-44c4-a99a-9b9a233b4a26",
   "metadata": {},
   "outputs": [],
   "source": [
    "# Membership operators\n",
    "\"\"\"In Python, in and not in are the membership operators. They are used to test whether a value or variable is found in a sequence (string, list, tuple, set and dictionary).\n",
    "In a dictionary we can only test for presence of key, not the value.\"\"\"\n",
    "\n",
    "# eg: in => True if membership is found is sequence (list, tuple, set, string, dictionary)\n",
    "# eg: not in => True if membership is not found in the sequence.\n",
    "\n"
   ]
  },
  {
   "cell_type": "code",
   "execution_count": null,
   "id": "04dc4042-aa54-4589-98e2-ce41c814ccc0",
   "metadata": {},
   "outputs": [],
   "source": []
  },
  {
   "cell_type": "code",
   "execution_count": 7,
   "id": "bd21e648-3f5f-4b39-9efb-410c79c0159a",
   "metadata": {},
   "outputs": [
    {
     "name": "stdout",
     "output_type": "stream",
     "text": [
      "True\n",
      "False\n",
      "True\n",
      "True\n"
     ]
    }
   ],
   "source": [
    "x = \"Hello World\"\n",
    "y = {1:\"a\", 2:\"b\"}\n",
    "\n",
    "print(\"Hello\" in x)  #True cos Hello existed\n",
    "print(\"Hello\" not in x)  #False cos Hello does existed\n",
    "\n",
    "print(1 in y) # true it existed\n",
    "print(2 in y) # True\n",
    "\n"
   ]
  },
  {
   "cell_type": "code",
   "execution_count": null,
   "id": "0ec082bc",
   "metadata": {},
   "outputs": [],
   "source": [
    "print(object= separator= end= file= flush=)"
   ]
  },
  {
   "cell_type": "code",
   "execution_count": 22,
   "id": "73e6fd73",
   "metadata": {},
   "outputs": [
    {
     "name": "stdout",
     "output_type": "stream",
     "text": [
      "good morning\n",
      "it's raining today\n",
      "\n",
      "# end makes it appear in a single line intead of new line as a result of two seperate print statement\n",
      "good morning it's raining today\n",
      "\n",
      "# end=  used to distribute . into multiple items\n",
      "New Year. 2024. See you soon!\n",
      "\n",
      "PowerLP is awesome\n"
     ]
    }
   ],
   "source": [
    "\"\"\"object - value(s) to be printed\n",
    "\n",
    "sep (optional) - allows us to separate multiple objects inside print().\n",
    "\n",
    "end (optional) - allows us to add add specific values like new line \"\\n\", tab \"\\t\"\n",
    "\n",
    "file (optional) - where the values are printed. It's default value is sys.stdout (screen)\n",
    "\n",
    "flush (optional) - boolean specifying if the output is flushed or buffered. Default: False\"\"\"\n",
    "\n",
    "\n",
    "\n",
    "print(\"good morning\")\n",
    "print(\"it's raining today\")\n",
    "\n",
    "print()\n",
    "print(\"# end makes it appear in a single line intead of new line as a result of two seperate print statement\")\n",
    "print(\"good morning\", end= \" \")\n",
    "print(\"it's raining today\")\n",
    "\n",
    "print()\n",
    "print(\"# end= \"\" used to distribute . into multiple items\")\n",
    "print(\"New Year\", 2024, \"See you soon!\", sep= \". \")\n",
    "\n",
    "print(\"\\nPowerLP is\" + \" awesome\")"
   ]
  },
  {
   "cell_type": "code",
   "execution_count": 26,
   "id": "6c7c87a8",
   "metadata": {},
   "outputs": [
    {
     "name": "stdout",
     "output_type": "stream",
     "text": [
      "the curly braces {} are used as placeholders. We can specify the order in which they are printed by using numbers (tuple index).\n",
      "the value of x is 5 and y is 8\n"
     ]
    }
   ],
   "source": [
    "# output formatting\n",
    "\n",
    "x = 5\n",
    "y = 8\n",
    "\n",
    "print(\"the curly braces {} are used as placeholders. We can specify the order in which they are printed by using numbers (tuple index).\")\n",
    "print(\"the value of x is {} and y is {}\".format(x,y))\n"
   ]
  },
  {
   "cell_type": "code",
   "execution_count": 30,
   "id": "477cce03",
   "metadata": {},
   "outputs": [
    {
     "name": "stdout",
     "output_type": "stream",
     "text": [
      "you Entered:  90\n"
     ]
    }
   ],
   "source": [
    "num = input(\"enter a num\")\n",
    "print(\"you Entered: \", num)"
   ]
  },
  {
   "cell_type": "code",
   "execution_count": 1,
   "id": "04cfedc6",
   "metadata": {},
   "outputs": [
    {
     "name": "stdout",
     "output_type": "stream",
     "text": [
      "Hello Adamu Labaran, you are 27 years old and live in Nigeria.\n"
     ]
    }
   ],
   "source": [
    "name = input(\"What is your name? \")\n",
    "age = input(\"what is your age? \")\n",
    "location = input(\"what is your location\")\n",
    "\n",
    "print(f\"Hello {name}, you are {age} years old and live in {location}.\")"
   ]
  },
  {
   "cell_type": "code",
   "execution_count": null,
   "id": "7e02f21a",
   "metadata": {},
   "outputs": [],
   "source": []
  }
 ],
 "metadata": {
  "kernelspec": {
   "display_name": "Python 3 (ipykernel)",
   "language": "python",
   "name": "python3"
  },
  "language_info": {
   "codemirror_mode": {
    "name": "ipython",
    "version": 3
   },
   "file_extension": ".py",
   "mimetype": "text/x-python",
   "name": "python",
   "nbconvert_exporter": "python",
   "pygments_lexer": "ipython3",
   "version": "3.11.3"
  }
 },
 "nbformat": 4,
 "nbformat_minor": 5
}
