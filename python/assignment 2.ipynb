{
 "cells": [
  {
   "cell_type": "code",
   "execution_count": 1,
   "metadata": {},
   "outputs": [
    {
     "name": "stdout",
     "output_type": "stream",
     "text": [
      "Index of 30 in my_list: 3\n",
      "Updated my_list: [10, 15, 20, 30, 40, 50, 60]\n"
     ]
    }
   ],
   "source": [
    "# Create an empty list called my_list\n",
    "my_list = []\n",
    "\n",
    "# Append the following elements to my_list: 10, 20, 30, 40\n",
    "my_list.extend([10, 20, 30, 40])\n",
    "\n",
    "# Insert the value 15 at the second position in the list\n",
    "my_list.insert(1, 15)\n",
    "\n",
    "# Extend my_list with another list: [50, 60, 70]\n",
    "my_list.extend([50, 60, 70])\n",
    "\n",
    "# Remove the last element from my_list\n",
    "my_list.pop()\n",
    "\n",
    "# Sort my_list in ascending order\n",
    "my_list.sort()\n",
    "\n",
    "# Find and print the index of the value 30 in my_list\n",
    "index_30 = my_list.index(30)\n",
    "print(\"Index of 30 in my_list:\", index_30)\n",
    "\n",
    "print(\"Updated my_list:\", my_list)\n"
   ]
  },
  {
   "cell_type": "code",
   "execution_count": null,
   "metadata": {},
   "outputs": [],
   "source": []
  }
 ],
 "metadata": {
  "kernelspec": {
   "display_name": "Python 3",
   "language": "python",
   "name": "python3"
  },
  "language_info": {
   "codemirror_mode": {
    "name": "ipython",
    "version": 3
   },
   "file_extension": ".py",
   "mimetype": "text/x-python",
   "name": "python",
   "nbconvert_exporter": "python",
   "pygments_lexer": "ipython3",
   "version": "3.11.3"
  }
 },
 "nbformat": 4,
 "nbformat_minor": 2
}
